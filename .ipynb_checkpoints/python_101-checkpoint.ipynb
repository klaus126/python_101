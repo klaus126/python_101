{
 "cells": [
  {
   "cell_type": "code",
   "execution_count": 1,
   "metadata": {},
   "outputs": [
    {
     "name": "stdout",
     "output_type": "stream",
     "text": [
      "Python 3.9.0\r\n"
     ]
    }
   ],
   "source": [
    "!python3 -V"
   ]
  },
  {
   "cell_type": "markdown",
   "metadata": {},
   "source": [
    "# 자료구조"
   ]
  },
  {
   "cell_type": "code",
   "execution_count": 2,
   "metadata": {},
   "outputs": [
    {
     "name": "stdout",
     "output_type": "stream",
     "text": [
      ">>> The type of 'int_num' is <class 'int'>\n",
      ">>> The type of 'float_num' is <class 'float'>\n",
      ">>> The type of 'foo' is <class 'bool'>\n",
      ">>> The type of 'string' is <class 'str'>\n"
     ]
    }
   ],
   "source": [
    "# Integer\n",
    "int_num = 1\n",
    "print(\">>> The type of 'int_num' is {}\".format(type(int_num)))\n",
    "\n",
    "# float\n",
    "float_num = 1.3\n",
    "print(\">>> The type of 'float_num' is {}\".format(type(float_num)))\n",
    "\n",
    "# boolean\n",
    "foo = False\n",
    "print(\">>> The type of 'foo' is {}\".format(type(foo)))\n",
    "\n",
    "# String\n",
    "string = \"python\"\n",
    "print(\">>> The type of 'string' is {}\".format(type(string)))"
   ]
  },
  {
   "cell_type": "code",
   "execution_count": 3,
   "metadata": {},
   "outputs": [
    {
     "name": "stdout",
     "output_type": "stream",
     "text": [
      ">>> The type of 'lists' is <class 'list'>\n",
      ">>> The type of 'tuples' is <class 'tuple'>\n",
      ">>> The type of 'fav_dic' is <class 'dict'>\n",
      ">>> The type of 'num_set' is <class 'set'>\n"
     ]
    }
   ],
   "source": [
    "# list\n",
    "lists = [1, 2, 3]\n",
    "print(\">>> The type of 'lists' is {}\".format(type(lists)))\n",
    "\n",
    "# tuple\n",
    "tuples = ((1,3), (2,4))\n",
    "print(\">>> The type of 'tuples' is {}\".format(type(tuples)))\n",
    "\n",
    "# dictionary\n",
    "fav_dic = {1: \"제주도\", 2: \"울릉도\"}\n",
    "print(\">>> The type of 'fav_dic' is {}\".format(type(fav_dic)))\n",
    "\n",
    "# set\n",
    "num_set = set([1,2,3,4,1])\n",
    "print(\">>> The type of 'num_set' is {}\".format(type(num_set)))"
   ]
  },
  {
   "cell_type": "markdown",
   "metadata": {},
   "source": [
    "### list comprehention\n",
    "- 리스트 데이터를 만들 떄 사용\n",
    "- 반복문보다 속도가 빠르다."
   ]
  },
  {
   "cell_type": "code",
   "execution_count": 7,
   "metadata": {},
   "outputs": [
    {
     "data": {
      "text/plain": [
       "[1, 4, 9, 16, 25]"
      ]
     },
     "execution_count": 7,
     "metadata": {},
     "output_type": "execute_result"
    }
   ],
   "source": [
    "ls = [ number**2 for number in range(1,6)]\n",
    "ls"
   ]
  },
  {
   "cell_type": "code",
   "execution_count": 6,
   "metadata": {},
   "outputs": [
    {
     "data": {
      "text/plain": [
       "[1, 9, 25]"
      ]
     },
     "execution_count": 6,
     "metadata": {},
     "output_type": "execute_result"
    }
   ],
   "source": [
    "ls = [ number**2 for number in range(1,6,2)]\n",
    "ls"
   ]
  },
  {
   "cell_type": "code",
   "execution_count": 12,
   "metadata": {},
   "outputs": [
    {
     "name": "stdout",
     "output_type": "stream",
     "text": [
      "CPU times: user 1.26 ms, sys: 65 µs, total: 1.33 ms\n",
      "Wall time: 1.33 ms\n"
     ]
    }
   ],
   "source": [
    "%%time\n",
    "#for-loop\n",
    "\n",
    "ls = []\n",
    "for num in range(1,10000):\n",
    "    ls.append(num)"
   ]
  },
  {
   "cell_type": "code",
   "execution_count": 13,
   "metadata": {},
   "outputs": [
    {
     "name": "stdout",
     "output_type": "stream",
     "text": [
      "CPU times: user 443 µs, sys: 48 µs, total: 491 µs\n",
      "Wall time: 494 µs\n"
     ]
    }
   ],
   "source": [
    "%%time\n",
    "#list comprehention\n",
    "\n",
    "ls = [ num for num in range(1,10000)]"
   ]
  },
  {
   "cell_type": "markdown",
   "metadata": {},
   "source": [
    "#### Integer"
   ]
  }
 ],
 "metadata": {
  "kernelspec": {
   "display_name": "venv-dl",
   "language": "python",
   "name": "venv-dl"
  },
  "language_info": {
   "codemirror_mode": {
    "name": "ipython",
    "version": 3
   },
   "file_extension": ".py",
   "mimetype": "text/x-python",
   "name": "python",
   "nbconvert_exporter": "python",
   "pygments_lexer": "ipython3",
   "version": "3.7.3"
  }
 },
 "nbformat": 4,
 "nbformat_minor": 4
}
